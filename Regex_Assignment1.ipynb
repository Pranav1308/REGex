{
  "nbformat": 4,
  "nbformat_minor": 0,
  "metadata": {
    "colab": {
      "name": "Regex Assignment1.ipynb",
      "provenance": [],
      "collapsed_sections": []
    },
    "kernelspec": {
      "name": "python3",
      "display_name": "Python 3"
    },
    "language_info": {
      "name": "python"
    }
  },
  "cells": [
    {
      "cell_type": "markdown",
      "metadata": {
        "id": "ZU8XyEDcI5Dl"
      },
      "source": [
        "- #Task 1\n",
        "- Registration/Referral id : SIRSS2212\n",
        "- Full name : Pranav Rahul Karanjawane"
      ]
    },
    {
      "cell_type": "code",
      "metadata": {
        "colab": {
          "base_uri": "https://localhost:8080/"
        },
        "id": "T3Uc5CD4wZlJ",
        "outputId": "4711224e-3976-4fca-dae8-f2b79adbd253"
      },
      "source": [
        "for i in range(5,0,-1):\n",
        "  for j in range(i):\n",
        "    print(\"5 \",end=\"\")\n",
        "  print(\"\\n\")"
      ],
      "execution_count": 3,
      "outputs": [
        {
          "output_type": "stream",
          "text": [
            "5 5 5 5 5 \n",
            "\n",
            "5 5 5 5 \n",
            "\n",
            "5 5 5 \n",
            "\n",
            "5 5 \n",
            "\n",
            "5 \n",
            "\n"
          ],
          "name": "stdout"
        }
      ]
    },
    {
      "cell_type": "code",
      "metadata": {
        "colab": {
          "base_uri": "https://localhost:8080/"
        },
        "id": "tmLvuXWvxYJg",
        "outputId": "3f12cb5c-deba-4297-9ff4-20a2121fefda"
      },
      "source": [
        "for i in range(5,0,-1):\n",
        "  a=0\n",
        "  for j in range(i+1):\n",
        "    print(a,\" \",end=\"\")\n",
        "    a=a+1\n",
        "  print(\"\\n\")"
      ],
      "execution_count": 4,
      "outputs": [
        {
          "output_type": "stream",
          "text": [
            "0  1  2  3  4  5  \n",
            "\n",
            "0  1  2  3  4  \n",
            "\n",
            "0  1  2  3  \n",
            "\n",
            "0  1  2  \n",
            "\n",
            "0  1  \n",
            "\n"
          ],
          "name": "stdout"
        }
      ]
    },
    {
      "cell_type": "code",
      "metadata": {
        "colab": {
          "base_uri": "https://localhost:8080/"
        },
        "id": "5uYv_SteykkY",
        "outputId": "345fec02-abf6-4454-93c4-07e2ee0f6945"
      },
      "source": [
        "for i in range(1,6):\n",
        "  for j in range(i):\n",
        "    print((i*2)-1,\" \",end=\"\")\n",
        "  print(\"\\n\")"
      ],
      "execution_count": 5,
      "outputs": [
        {
          "output_type": "stream",
          "text": [
            "1  \n",
            "\n",
            "3  3  \n",
            "\n",
            "5  5  5  \n",
            "\n",
            "7  7  7  7  \n",
            "\n",
            "9  9  9  9  9  \n",
            "\n"
          ],
          "name": "stdout"
        }
      ]
    },
    {
      "cell_type": "code",
      "metadata": {
        "colab": {
          "base_uri": "https://localhost:8080/"
        },
        "id": "HqEhNyVJzeJA",
        "outputId": "ad7e0a8d-eaa4-456f-fc21-3e86b56d960e"
      },
      "source": [
        "for i in range(1,6):\n",
        "  a=i\n",
        "  for j in range(i):\n",
        "    print(a,\" \",end=\"\")\n",
        "    a=a-1\n",
        "  print(\"\\n\")"
      ],
      "execution_count": 6,
      "outputs": [
        {
          "output_type": "stream",
          "text": [
            "1  \n",
            "\n",
            "2  1  \n",
            "\n",
            "3  2  1  \n",
            "\n",
            "4  3  2  1  \n",
            "\n",
            "5  4  3  2  1  \n",
            "\n"
          ],
          "name": "stdout"
        }
      ]
    },
    {
      "cell_type": "code",
      "metadata": {
        "colab": {
          "base_uri": "https://localhost:8080/"
        },
        "id": "zEVtYCIAz2pO",
        "outputId": "c7967c2b-f3ea-4392-f3d2-571dcc31e819"
      },
      "source": [
        "a=0\n",
        "for i in range(1,5):\n",
        "  a=a+i\n",
        "  x=a\n",
        "  for j in range(i):\n",
        "    print(x,\" \",end=\"\")\n",
        "    x=x-1\n",
        "  print(\"\\n\")"
      ],
      "execution_count": 7,
      "outputs": [
        {
          "output_type": "stream",
          "text": [
            "1  \n",
            "\n",
            "3  2  \n",
            "\n",
            "6  5  4  \n",
            "\n",
            "10  9  8  7  \n",
            "\n"
          ],
          "name": "stdout"
        }
      ]
    },
    {
      "cell_type": "code",
      "metadata": {
        "colab": {
          "base_uri": "https://localhost:8080/"
        },
        "id": "ZVtbvdQz0s0Q",
        "outputId": "035ebec8-b6f1-4d8a-c267-79da096a2764"
      },
      "source": [
        "def fac(n):\n",
        "  f=1\n",
        "  while(n>1):\n",
        "    f=f*(n)\n",
        "    n=n-1\n",
        "  return f\n",
        "\n",
        "def c(n,r):\n",
        "  return int(fac(n)/(fac(r)*fac(n-r)))\n",
        "  \n",
        "\n",
        "for i in range(0,7):\n",
        "  x=0\n",
        "  for j in range(i+1):\n",
        "    print(c(i,x),\" \",end=\"\")\n",
        "    x=x+1\n",
        "  print(\"\\n\")"
      ],
      "execution_count": 8,
      "outputs": [
        {
          "output_type": "stream",
          "text": [
            "1  \n",
            "\n",
            "1  1  \n",
            "\n",
            "1  2  1  \n",
            "\n",
            "1  3  3  1  \n",
            "\n",
            "1  4  6  4  1  \n",
            "\n",
            "1  5  10  10  5  1  \n",
            "\n",
            "1  6  15  20  15  6  1  \n",
            "\n"
          ],
          "name": "stdout"
        }
      ]
    },
    {
      "cell_type": "code",
      "metadata": {
        "colab": {
          "base_uri": "https://localhost:8080/"
        },
        "id": "EvTCSOLl3zby",
        "outputId": "19b629b6-8521-4fb2-80b9-d16328bbe813"
      },
      "source": [
        "for i in range(1,6):\n",
        "  for j in range(i):\n",
        "    print(i,\" \",end=\"\")\n",
        "    x=i+1\n",
        "  for k in range(5-i):\n",
        "    print(x,\" \",end=\"\")\n",
        "    x=x+1\n",
        "  print('\\n')"
      ],
      "execution_count": 9,
      "outputs": [
        {
          "output_type": "stream",
          "text": [
            "1  2  3  4  5  \n",
            "\n",
            "2  2  3  4  5  \n",
            "\n",
            "3  3  3  4  5  \n",
            "\n",
            "4  4  4  4  5  \n",
            "\n",
            "5  5  5  5  5  \n",
            "\n"
          ],
          "name": "stdout"
        }
      ]
    },
    {
      "cell_type": "code",
      "metadata": {
        "colab": {
          "base_uri": "https://localhost:8080/"
        },
        "id": "86qUbatS506i",
        "outputId": "4ee8c143-f8d2-41a9-e924-f9596ea0f130"
      },
      "source": [
        "for i in range(1,9):\n",
        "  x=i\n",
        "  for j in range(i):\n",
        "    print(x,\" \",end=\"\")\n",
        "    x=x+i\n",
        "  print(\"\\n\")"
      ],
      "execution_count": 10,
      "outputs": [
        {
          "output_type": "stream",
          "text": [
            "1  \n",
            "\n",
            "2  4  \n",
            "\n",
            "3  6  9  \n",
            "\n",
            "4  8  12  16  \n",
            "\n",
            "5  10  15  20  25  \n",
            "\n",
            "6  12  18  24  30  36  \n",
            "\n",
            "7  14  21  28  35  42  49  \n",
            "\n",
            "8  16  24  32  40  48  56  64  \n",
            "\n"
          ],
          "name": "stdout"
        }
      ]
    },
    {
      "cell_type": "code",
      "metadata": {
        "colab": {
          "base_uri": "https://localhost:8080/"
        },
        "id": "RW2ZRnQl8nDh",
        "outputId": "964233bf-cc8b-41fa-deda-2929a5ba6a69"
      },
      "source": [
        "for i in range(0,6):\n",
        "  for j in range(i):\n",
        "    print(\" \",end=\"\")\n",
        "  for k in range(6-i):\n",
        "   print(\"* \",end=\"\")\n",
        "  print(\"\\n\")"
      ],
      "execution_count": 11,
      "outputs": [
        {
          "output_type": "stream",
          "text": [
            "* * * * * * \n",
            "\n",
            " * * * * * \n",
            "\n",
            "  * * * * \n",
            "\n",
            "   * * * \n",
            "\n",
            "    * * \n",
            "\n",
            "     * \n",
            "\n"
          ],
          "name": "stdout"
        }
      ]
    },
    {
      "cell_type": "code",
      "metadata": {
        "colab": {
          "base_uri": "https://localhost:8080/"
        },
        "id": "jaJJjg_791BT",
        "outputId": "62a87199-058c-41b2-eb92-d98030937f3d"
      },
      "source": [
        "for i in range(0,8):\n",
        "  for j in range(8-i):\n",
        "    print(\" \",end=\"\")\n",
        "  for k in range(i):\n",
        "   print(\"* \",end=\"\")\n",
        "  print(\"\\n\")"
      ],
      "execution_count": 12,
      "outputs": [
        {
          "output_type": "stream",
          "text": [
            "        \n",
            "\n",
            "       * \n",
            "\n",
            "      * * \n",
            "\n",
            "     * * * \n",
            "\n",
            "    * * * * \n",
            "\n",
            "   * * * * * \n",
            "\n",
            "  * * * * * * \n",
            "\n",
            " * * * * * * * \n",
            "\n"
          ],
          "name": "stdout"
        }
      ]
    },
    {
      "cell_type": "code",
      "metadata": {
        "colab": {
          "base_uri": "https://localhost:8080/"
        },
        "id": "LVeJuQ0W-UZP",
        "outputId": "25353d7c-1020-4e19-a2de-01a78edebc8b"
      },
      "source": [
        "for i in range(1,7):\n",
        "  for j in range(i):\n",
        "    print(\"* \",end=\"\")\n",
        "  print(\"\\n\")\n",
        "\n",
        "print(\"\\n\")\n",
        "\n",
        "for i in range(6,0,-1):\n",
        "  for j in range(i):\n",
        "    print(\"* \",end=\"\")\n",
        "  print(\"\\n\")"
      ],
      "execution_count": 13,
      "outputs": [
        {
          "output_type": "stream",
          "text": [
            "* \n",
            "\n",
            "* * \n",
            "\n",
            "* * * \n",
            "\n",
            "* * * * \n",
            "\n",
            "* * * * * \n",
            "\n",
            "* * * * * * \n",
            "\n",
            "\n",
            "\n",
            "* * * * * * \n",
            "\n",
            "* * * * * \n",
            "\n",
            "* * * * \n",
            "\n",
            "* * * \n",
            "\n",
            "* * \n",
            "\n",
            "* \n",
            "\n"
          ],
          "name": "stdout"
        }
      ]
    },
    {
      "cell_type": "code",
      "metadata": {
        "colab": {
          "base_uri": "https://localhost:8080/"
        },
        "id": "m-zMHned-8Bp",
        "outputId": "e35c0373-9936-4279-d318-d8e998f285f1"
      },
      "source": [
        "for i in range(1,6):\n",
        "  for j in range(i):\n",
        "    print(\"* \",end=\"\")\n",
        "  print(\"\\n\")\n",
        "for i in range(4,0,-1):\n",
        "  for j in range(i):\n",
        "    print(\"* \",end=\"\")\n",
        "  print(\"\\n\")"
      ],
      "execution_count": 14,
      "outputs": [
        {
          "output_type": "stream",
          "text": [
            "* \n",
            "\n",
            "* * \n",
            "\n",
            "* * * \n",
            "\n",
            "* * * * \n",
            "\n",
            "* * * * * \n",
            "\n",
            "* * * * \n",
            "\n",
            "* * * \n",
            "\n",
            "* * \n",
            "\n",
            "* \n",
            "\n"
          ],
          "name": "stdout"
        }
      ]
    },
    {
      "cell_type": "code",
      "metadata": {
        "colab": {
          "base_uri": "https://localhost:8080/"
        },
        "id": "adjNwe5M_X5w",
        "outputId": "8fab5ac4-6390-4d9c-e169-c2f48551856a"
      },
      "source": [
        "for i in range(0,6):\n",
        "  for j in range(6-i):\n",
        "    print(\"  \",end=\"\")\n",
        "  for k in range(i):\n",
        "   print(\"* \",end=\"\")\n",
        "  print(\"\\n\")\n",
        "for i in range(1,5):\n",
        "  for j in range(i+1):\n",
        "    print(\"  \",end=\"\")\n",
        "  for k in range(5-i):\n",
        "   print(\"* \",end=\"\")\n",
        "  print(\"\\n\")"
      ],
      "execution_count": 15,
      "outputs": [
        {
          "output_type": "stream",
          "text": [
            "            \n",
            "\n",
            "          * \n",
            "\n",
            "        * * \n",
            "\n",
            "      * * * \n",
            "\n",
            "    * * * * \n",
            "\n",
            "  * * * * * \n",
            "\n",
            "    * * * * \n",
            "\n",
            "      * * * \n",
            "\n",
            "        * * \n",
            "\n",
            "          * \n",
            "\n"
          ],
          "name": "stdout"
        }
      ]
    },
    {
      "cell_type": "code",
      "metadata": {
        "colab": {
          "base_uri": "https://localhost:8080/"
        },
        "id": "YRM8wXoe_vNW",
        "outputId": "aba0489e-03aa-4e90-80bc-432254e4261d"
      },
      "source": [
        "for i in range(1,6):\n",
        "  for j in range(i):\n",
        "    print(\" \",end=\"\")\n",
        "  for k in range(6-i):\n",
        "   print(\"* \",end=\"\")\n",
        "  print(\"\\n\")\n",
        "for i in range(0,6):\n",
        "  for j in range(6-i):\n",
        "    print(\" \",end=\"\")\n",
        "  for k in range(i):\n",
        "   print(\"* \",end=\"\")\n",
        "  print(\"\\n\")"
      ],
      "execution_count": 16,
      "outputs": [
        {
          "output_type": "stream",
          "text": [
            " * * * * * \n",
            "\n",
            "  * * * * \n",
            "\n",
            "   * * * \n",
            "\n",
            "    * * \n",
            "\n",
            "     * \n",
            "\n",
            "      \n",
            "\n",
            "     * \n",
            "\n",
            "    * * \n",
            "\n",
            "   * * * \n",
            "\n",
            "  * * * * \n",
            "\n",
            " * * * * * \n",
            "\n"
          ],
          "name": "stdout"
        }
      ]
    },
    {
      "cell_type": "code",
      "metadata": {
        "colab": {
          "base_uri": "https://localhost:8080/"
        },
        "id": "iRiq_VuYA9m8",
        "outputId": "82675439-b285-4038-a8a8-b5796c88bd89"
      },
      "source": [
        "for i in range(0,8):\n",
        "\n",
        "  for j in range(8-i):\n",
        "    print(\"* \",end=\"\")\n",
        "  for k in range(i*2):\n",
        "    print(\"_ \",end=\"\")\n",
        "  for l in range(8-i):\n",
        "    print(\"* \",end=\"\")\n",
        "  print(\"\\n\")\n",
        "\n"
      ],
      "execution_count": 17,
      "outputs": [
        {
          "output_type": "stream",
          "text": [
            "* * * * * * * * * * * * * * * * \n",
            "\n",
            "* * * * * * * _ _ * * * * * * * \n",
            "\n",
            "* * * * * * _ _ _ _ * * * * * * \n",
            "\n",
            "* * * * * _ _ _ _ _ _ * * * * * \n",
            "\n",
            "* * * * _ _ _ _ _ _ _ _ * * * * \n",
            "\n",
            "* * * _ _ _ _ _ _ _ _ _ _ * * * \n",
            "\n",
            "* * _ _ _ _ _ _ _ _ _ _ _ _ * * \n",
            "\n",
            "* _ _ _ _ _ _ _ _ _ _ _ _ _ _ * \n",
            "\n"
          ],
          "name": "stdout"
        }
      ]
    }
  ]
}