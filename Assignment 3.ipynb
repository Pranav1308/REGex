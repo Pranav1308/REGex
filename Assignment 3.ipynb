{
 "cells": [
  {
   "cell_type": "markdown",
   "id": "d61962cd",
   "metadata": {},
   "source": [
    "# Task 3\n",
    "- Registration/Referral id : SIRSS2212\n",
    "- Full name : Pranav Rahul Karanjawane"
   ]
  },
  {
   "cell_type": "markdown",
   "id": "7d85322e",
   "metadata": {},
   "source": [
    "### Q.1 Write a function to return nth term of fibonacci sequence."
   ]
  },
  {
   "cell_type": "code",
   "execution_count": 1,
   "id": "0ffabb78",
   "metadata": {},
   "outputs": [
    {
     "name": "stdout",
     "output_type": "stream",
     "text": [
      "Enter a Number : 5\n",
      "5 "
     ]
    }
   ],
   "source": [
    "def fibonacci(n) :\n",
    "    if(n<0) :\n",
    "        return(\"incorrect input\")\n",
    "    elif(n==0):\n",
    "        return 0\n",
    "    elif(n==2 or n==1):\n",
    "        return 1\n",
    "    else : \n",
    "        return (fibonacci(n-1) + fibonacci(n-2))\n",
    "    \n",
    "x = int(input(\"Enter a Number : \"))\n",
    "print(fibonacci(x), end = \" \")"
   ]
  },
  {
   "cell_type": "markdown",
   "id": "c359e5ff",
   "metadata": {},
   "source": [
    "### Q.2 Write a function to find out GCD of two numbers using EUCLID'S algorithm."
   ]
  },
  {
   "cell_type": "code",
   "execution_count": 2,
   "id": "15888448",
   "metadata": {},
   "outputs": [
    {
     "name": "stdout",
     "output_type": "stream",
     "text": [
      "Enter first number4\n",
      "Enter second number7\n",
      "GCD is 1\n"
     ]
    }
   ],
   "source": [
    "def GCD(a,b):\n",
    "    if b==0:\n",
    "        return a\n",
    "    else:\n",
    "        return GCD(b,a%b)\n",
    "num1=int(input(\"Enter first number\"))\n",
    "num2=int(input(\"Enter second number\"))\n",
    "print(\"GCD is\", GCD(num1,num2))"
   ]
  },
  {
   "cell_type": "markdown",
   "id": "f05bf471",
   "metadata": {},
   "source": [
    "### Q.3 Write a function to find LCM of two number in most optimizers way."
   ]
  },
  {
   "cell_type": "code",
   "execution_count": 3,
   "id": "da8d96f4",
   "metadata": {},
   "outputs": [
    {
     "name": "stdout",
     "output_type": "stream",
     "text": [
      "Enter first number6\n",
      "Enter seconf number9\n",
      "Lcm of  6 and 9 is : 18\n"
     ]
    }
   ],
   "source": [
    "def lcm(num1,num2):\n",
    "    return (num1//GCD(num1,num2))*num2\n",
    "num1=int(input(\"Enter first number\"))\n",
    "num2=int(input(\"Enter seconf number\"))\n",
    "print('Lcm of ',num1,\"and\",num2,'is :',lcm(num1,num2))"
   ]
  },
  {
   "cell_type": "code",
   "execution_count": null,
   "id": "c4946700",
   "metadata": {},
   "outputs": [],
   "source": []
  }
 ],
 "metadata": {
  "kernelspec": {
   "display_name": "Python 3 (ipykernel)",
   "language": "python",
   "name": "python3"
  },
  "language_info": {
   "codemirror_mode": {
    "name": "ipython",
    "version": 3
   },
   "file_extension": ".py",
   "mimetype": "text/x-python",
   "name": "python",
   "nbconvert_exporter": "python",
   "pygments_lexer": "ipython3",
   "version": "3.9.6"
  }
 },
 "nbformat": 4,
 "nbformat_minor": 5
}
