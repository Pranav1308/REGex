{
 "cells": [
  {
   "cell_type": "markdown",
   "id": "a6d8b6f9",
   "metadata": {},
   "source": [
    "# Task 5\n",
    "- Registration/Referral id : SIRSS2212\n",
    "- Full name : Pranav Rahul Karanjawane"
   ]
  },
  {
   "cell_type": "markdown",
   "id": "fa38c5ff",
   "metadata": {},
   "source": [
    "### Q1. Given a list of integers, write a function to return the sum of all prime numbers in that list."
   ]
  },
  {
   "cell_type": "code",
   "execution_count": 1,
   "id": "de80b4ff",
   "metadata": {},
   "outputs": [
    {
     "name": "stdout",
     "output_type": "stream",
     "text": [
      "2\n",
      "3\n",
      "5\n",
      "11\n",
      "13\n"
     ]
    },
    {
     "data": {
      "text/plain": [
       "34"
      ]
     },
     "execution_count": 1,
     "metadata": {},
     "output_type": "execute_result"
    }
   ],
   "source": [
    "import math\n",
    "def prime(n):\n",
    "    if n == 0 or n == 1:\n",
    "        return False\n",
    "    else:\n",
    "        for i in range(2, int(n**0.5)+1):\n",
    "            if n%i == 0:\n",
    "                return False\n",
    "                break\n",
    "        else:\n",
    "            return True\n",
    "            \n",
    "def sum_prime(ls):\n",
    "    sum_of_primes=0\n",
    "    for i in ls:\n",
    "        if prime(i):\n",
    "            print(i)\n",
    "            sum_of_primes += i\n",
    "    return sum_of_primes\n",
    "sum_prime([0,1,2,3,4,5,10,11,12,13])"
   ]
  },
  {
   "cell_type": "markdown",
   "id": "8873cefb",
   "metadata": {},
   "source": [
    "### Q2. Given a list of integers, write a function to check whether the list is strictly increasing or not."
   ]
  },
  {
   "cell_type": "code",
   "execution_count": 2,
   "id": "55e0f671",
   "metadata": {},
   "outputs": [
    {
     "name": "stdout",
     "output_type": "stream",
     "text": [
      "2 4 5 7 1\n",
      "List is strictly increases :  False\n"
     ]
    }
   ],
   "source": [
    "def Inc(l):\n",
    "    flag=True\n",
    "    for i in range(1,len(l)):\n",
    "        if l[i-1]>l[i]:\n",
    "            flag=False\n",
    "            break\n",
    "    return flag\n",
    "l1=input().split()\n",
    "list1=list(map(lambda x:int(x),l1))\n",
    "print('List is strictly increases : ',Inc(list1))"
   ]
  },
  {
   "cell_type": "markdown",
   "id": "8e3cc12f",
   "metadata": {},
   "source": [
    "### Q3. Write a function to check whether a given list is expanding or not (the difference between adjacent elements should keep on increasing)."
   ]
  },
  {
   "cell_type": "code",
   "execution_count": 3,
   "id": "35f1aa8c",
   "metadata": {},
   "outputs": [
    {
     "data": {
      "text/plain": [
       "True"
      ]
     },
     "execution_count": 3,
     "metadata": {},
     "output_type": "execute_result"
    }
   ],
   "source": [
    "def expanding(l):\n",
    "    d1 = abs(l[1] - l[0])\n",
    "    d2 = abs(l[2] - l[1])\n",
    "    \n",
    "    if d1 >= d2:\n",
    "        return False\n",
    "    \n",
    "    else:\n",
    "        for i in range(3,len(l)):\n",
    "            d3 = abs(l[i] - l[i-1])\n",
    "            if d3 <= d2:\n",
    "                return False\n",
    "            d2 = d3\n",
    "        else:\n",
    "            return True\n",
    "expanding([1,3,7,2,9])"
   ]
  },
  {
   "cell_type": "markdown",
   "id": "a809798c",
   "metadata": {},
   "source": [
    "### Q4. Write a function to calculate all permutations of a given string. (Without using itertools)"
   ]
  },
  {
   "cell_type": "code",
   "execution_count": 4,
   "id": "a31d32a3",
   "metadata": {},
   "outputs": [
    {
     "name": "stdout",
     "output_type": "stream",
     "text": [
      "Enter the String : abc\n"
     ]
    },
    {
     "data": {
      "text/plain": [
       "['abc', 'bac', 'bca', 'acb', 'cab', 'cba']"
      ]
     },
     "execution_count": 4,
     "metadata": {},
     "output_type": "execute_result"
    }
   ],
   "source": [
    "def permutation(str) :\n",
    "    if len(str) == 1 :\n",
    "        return [str]\n",
    "    prmts = permutation(str[1:])\n",
    "    fst = str[0]\n",
    "    rslt = []\n",
    "    for i in prmts :\n",
    "        for j in range(len(i)+1) :\n",
    "            rslt.append(i[:j] + fst + i[j:])\n",
    "    return rslt\n",
    "\n",
    "\n",
    "inp = str(input(\"Enter the String : \"))\n",
    "permutation(inp)"
   ]
  },
  {
   "cell_type": "code",
   "execution_count": null,
   "id": "907bbb5b",
   "metadata": {},
   "outputs": [],
   "source": []
  }
 ],
 "metadata": {
  "kernelspec": {
   "display_name": "Python 3 (ipykernel)",
   "language": "python",
   "name": "python3"
  },
  "language_info": {
   "codemirror_mode": {
    "name": "ipython",
    "version": 3
   },
   "file_extension": ".py",
   "mimetype": "text/x-python",
   "name": "python",
   "nbconvert_exporter": "python",
   "pygments_lexer": "ipython3",
   "version": "3.9.6"
  }
 },
 "nbformat": 4,
 "nbformat_minor": 5
}
