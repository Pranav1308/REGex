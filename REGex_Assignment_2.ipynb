{
 "cells": [
  {
   "cell_type": "markdown",
   "id": "5fc82782",
   "metadata": {},
   "source": [
    "#                Assignment 2    "
   ]
  },
  {
   "cell_type": "markdown",
   "id": "5d06b963",
   "metadata": {},
   "source": [
    "Q1. Write a lambda expression to extract first word of the string"
   ]
  },
  {
   "cell_type": "code",
   "execution_count": 1,
   "id": "3aad30d1",
   "metadata": {},
   "outputs": [
    {
     "name": "stdout",
     "output_type": "stream",
     "text": [
      "McLaren\n"
     ]
    }
   ],
   "source": [
    "string = \"McLaren P1 is a limited-production mid-engine plug-in hybrid sports car\"\n",
    "first_word = lambda i: string.split()[i]\n",
    "print(first_word(0))"
   ]
  },
  {
   "cell_type": "markdown",
   "id": "e6eb9333",
   "metadata": {},
   "source": [
    "Q2. Write a function to extract first word of s string(with many word seperated by space)"
   ]
  },
  {
   "cell_type": "code",
   "execution_count": 2,
   "id": "ca9dbe90",
   "metadata": {},
   "outputs": [
    {
     "data": {
      "text/plain": [
       "'Aventador'"
      ]
     },
     "execution_count": 2,
     "metadata": {},
     "output_type": "execute_result"
    }
   ],
   "source": [
    "str1 = \" Aventador advances every concept of performance, and best out there in the market.\"\n",
    "\n",
    "def fword(string):\n",
    "    return string.split()[0]\n",
    "\n",
    "fword(str1)"
   ]
  },
  {
   "cell_type": "markdown",
   "id": "b4c4584b",
   "metadata": {},
   "source": [
    "Q3. Extract the first word from every string from a list of strings by using map function"
   ]
  },
  {
   "cell_type": "code",
   "execution_count": 3,
   "id": "ac31529b",
   "metadata": {},
   "outputs": [
    {
     "name": "stdout",
     "output_type": "stream",
     "text": [
      "['The', 'Brand', 'Performance', 'Speed']\n"
     ]
    }
   ],
   "source": [
    "l1 = [\"The word supercar is thrown around describing various high performance cars\",\n",
    "        \"Brand name is important because of  heritage and history\",\n",
    "        \"Performance is made up of three parts: handling, power, and speed\",\n",
    "        \"Speed is one of the most important aspects in a vehicle becoming a supercar\"]\n",
    "def fword(string):\n",
    "    return string.split()[0]\n",
    "res = list(map(fword,l1))\n",
    "print(res)\n"
   ]
  },
  {
   "cell_type": "markdown",
   "id": "a92907ab",
   "metadata": {},
   "source": [
    "Q4. Write a function to return a list of prime factors of a given number."
   ]
  },
  {
   "cell_type": "code",
   "execution_count": 4,
   "id": "b19645c9",
   "metadata": {},
   "outputs": [
    {
     "name": "stdout",
     "output_type": "stream",
     "text": [
      "Enter a number :230\n",
      "[2, 5, 23]\n"
     ]
    }
   ],
   "source": [
    "def prime_factor(x):\n",
    "    p_fact = []\n",
    "    div = 2\n",
    "\n",
    "    while div <= x:\n",
    "        if x%div == 0:\n",
    "            p_fact.append(div)\n",
    "            x = x/div\n",
    "        else:\n",
    "            div += 1\n",
    "    return p_fact\n",
    "\n",
    "a = int(input(\"Enter a number :\"))\n",
    "print(prime_factor(a))"
   ]
  },
  {
   "cell_type": "markdown",
   "id": "3f20cbb9",
   "metadata": {},
   "source": [
    "Q5. Write a function that finds 2nd largest among 4 numbers (Repetitions are allowed,\n",
    "without sorting)."
   ]
  },
  {
   "cell_type": "code",
   "execution_count": 5,
   "id": "8bcda36f",
   "metadata": {},
   "outputs": [
    {
     "name": "stdout",
     "output_type": "stream",
     "text": [
      "2 3 4 5\n",
      "4\n"
     ]
    }
   ],
   "source": [
    "a = input()\n",
    "l1 = a.split()\n",
    "\n",
    "l1 = set(l1)\n",
    "\n",
    "def second_largest():\n",
    "    \n",
    "    l1.remove(max(l1))\n",
    "    \n",
    "    print(max(l1))\n",
    "    \n",
    "second_largest()\n",
    "    "
   ]
  },
  {
   "cell_type": "code",
   "execution_count": null,
   "id": "586e1967",
   "metadata": {},
   "outputs": [],
   "source": []
  }
 ],
 "metadata": {
  "kernelspec": {
   "display_name": "Python 3 (ipykernel)",
   "language": "python",
   "name": "python3"
  },
  "language_info": {
   "codemirror_mode": {
    "name": "ipython",
    "version": 3
   },
   "file_extension": ".py",
   "mimetype": "text/x-python",
   "name": "python",
   "nbconvert_exporter": "python",
   "pygments_lexer": "ipython3",
   "version": "3.9.6"
  }
 },
 "nbformat": 4,
 "nbformat_minor": 5
}
